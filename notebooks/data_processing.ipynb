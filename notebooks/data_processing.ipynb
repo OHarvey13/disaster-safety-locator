{
 "cells": [
  {
   "cell_type": "markdown",
   "id": "1be46635",
   "metadata": {},
   "source": [
    "## Hurrican Research Division --> Atlantic Hurrican date from 1851 to 2024\n",
    "- This notebook is intended to keep all data processing concise. To take the raw data and process it into usable data.\n",
    "- The following section is transforming the data set, hurdat, a data set from the Hurricane Research Division. The data set came in a txt file with no column names. From there it is converted into a proccessed csv file and placed into the processed folder in the data folder.  \n",
    "- Link : https://www.aoml.noaa.gov/hrd/hurdat/Data_Storm.html"
   ]
  },
  {
   "cell_type": "code",
   "execution_count": 64,
   "id": "8dc07859",
   "metadata": {},
   "outputs": [
    {
     "name": "stdout",
     "output_type": "stream",
     "text": [
      "Collecting geopy\n",
      "  Downloading geopy-2.4.1-py3-none-any.whl.metadata (6.8 kB)\n",
      "Collecting geographiclib<3,>=1.52 (from geopy)\n",
      "  Downloading geographiclib-2.1-py3-none-any.whl.metadata (1.6 kB)\n",
      "Downloading geopy-2.4.1-py3-none-any.whl (125 kB)\n",
      "Downloading geographiclib-2.1-py3-none-any.whl (40 kB)\n",
      "Installing collected packages: geographiclib, geopy\n",
      "\u001b[2K   \u001b[90m━━━━━━━━━━━━━━━━━━━━━━━━━━━━━━━━━━━━━━━━\u001b[0m \u001b[32m2/2\u001b[0m [geopy]\n",
      "\u001b[1A\u001b[2KSuccessfully installed geographiclib-2.1 geopy-2.4.1\n",
      "Note: you may need to restart the kernel to use updated packages.\n"
     ]
    }
   ],
   "source": [
    "pip install geopy"
   ]
  },
  {
   "cell_type": "code",
   "execution_count": 65,
   "id": "9fa6c6d6",
   "metadata": {},
   "outputs": [],
   "source": [
    "import csv\n",
    "import os\n",
    "\n",
    "# Define file paths, take the raw unprocessed data and produce a cleaned CSV file placing it into processed folder\n",
    "input_file = \"../data/raw/hurdat2_atlantic.txt\"\n",
    "output_folder = \"../data/processed\"\n",
    "output_file = os.path.join(output_folder, \"hurdat2_atlantic.csv\")\n",
    "\n",
    "os.makedirs(output_folder, exist_ok=True)# Ensure the output directory exists\n",
    "\n",
    "# Open the input file and output CSV file\n",
    "with open(input_file, 'r') as f_in, open(output_file, 'w', newline='') as f_out:\n",
    "    writer = csv.writer(f_out)\n",
    "    \n",
    "    writer.writerow([\"Storm_id\", \"Storm_name\", \"Date\", \"Time\", \"Type_of_storm\", \"Latitude\", \"Longitude\", \"Wind_knots\", \"Pressure_mb\"])\n",
    "    \n",
    "    current_id = \"\"\n",
    "    current_name = \"\"\n",
    "    \n",
    "    for line in f_in: # Read each line in the input file\n",
    "        line = line.strip() # Remove leading/trailing whitespace\n",
    "        if not line: # Skip empty lines\n",
    "            continue\n",
    "        \n",
    "        # Header line (storm start)\n",
    "        if line[0].isalpha() and \",\" in line: # Identify header lines\n",
    "            parts = line.split(\",\") # Split by comma\n",
    "            current_id = parts[0].strip() # Storm ID\n",
    "            current_name = parts[1].strip() # Storm name\n",
    "            continue\n",
    "        \n",
    "        # Data line\n",
    "        parts = [p.strip() for p in line.split(\",\")] # Split and strip each part\n",
    "        if len(parts) >= 7: # Ensure there are enough parts\n",
    "            date = parts[0] # Date\n",
    "            time = parts[1] # Time\n",
    "            type_ = parts[3] # Type of storm\n",
    "            lat = parts[4] # Latitude\n",
    "            lon = parts[5] # Longitude\n",
    "            wind = parts[6] # Wind knots\n",
    "            pressure = parts[7] if len(parts) > 7 else \"\" # Pressure in mb (if available)\n",
    "            \n",
    "            writer.writerow([current_id, current_name, date, time, type_, lat, lon, wind, pressure]) # Write to CSV\n"
   ]
  },
  {
   "cell_type": "code",
   "execution_count": 66,
   "id": "4ecdc849",
   "metadata": {},
   "outputs": [
    {
     "name": "stdout",
     "output_type": "stream",
     "text": [
      "<class 'pandas.core.frame.DataFrame'>\n",
      "RangeIndex: 55230 entries, 0 to 55229\n",
      "Data columns (total 8 columns):\n",
      " #   Column         Non-Null Count  Dtype         \n",
      "---  ------         --------------  -----         \n",
      " 0   Storm_id       55230 non-null  object        \n",
      " 1   Storm_name     55230 non-null  object        \n",
      " 2   Timestamp      55230 non-null  datetime64[ns]\n",
      " 3   Type_of_storm  55230 non-null  object        \n",
      " 4   Lat            55230 non-null  float64       \n",
      " 5   Lon            55230 non-null  float64       \n",
      " 6   Wind_knots     55230 non-null  int64         \n",
      " 7   Pressure_mb    55230 non-null  int64         \n",
      "dtypes: datetime64[ns](1), float64(2), int64(2), object(3)\n",
      "memory usage: 3.4+ MB\n"
     ]
    }
   ],
   "source": [
    "import pandas as pd      \n",
    "import numpy as np       \n",
    "atlantic_storm = pd.read_csv(\"../data/processed/hurdat2_atlantic.csv\")\n",
    "atlantic_storm['Date'] = atlantic_storm['Date'].astype('string') # Ensure date is string\n",
    "atlantic_storm['Time'] = atlantic_storm['Time'].apply(lambda x: f\"{int(x):04d}\") # Ensure time is 4 digits\n",
    "\n",
    "import pandas as pd\n",
    "import numpy as np\n",
    "\n",
    "# Convert Latitude (N/S)\n",
    "atlantic_storm['Lat'] = atlantic_storm['Latitude'].str[:-1].astype(float)\n",
    "atlantic_storm['Lat'] *= np.where(atlantic_storm['Latitude'].str[-1] == 'S', -1, 1)\n",
    "\n",
    "# Convert Longitude (W/E)\n",
    "atlantic_storm['Lon'] = atlantic_storm['Longitude'].str[:-1].astype(float)\n",
    "atlantic_storm['Lon'] *= np.where(atlantic_storm['Longitude'].str[-1] == 'W', -1, 1)\n",
    "\n",
    "\n",
    "atlantic_storm['Timestamp'] = pd.to_datetime(atlantic_storm['Date'] + atlantic_storm['Time'], format='%Y%m%d%H%M') # Combine date and time into a single timestamp\n",
    "cols = [\"Storm_id\", \"Storm_name\", \"Timestamp\", \"Type_of_storm\", \"Lat\", \"Lon\", \"Wind_knots\", \"Pressure_mb\"]\n",
    "atlantic_storm = atlantic_storm[cols] # Reorder columns\n",
    "atlantic_storm.info()\n"
   ]
  },
  {
   "cell_type": "code",
   "execution_count": null,
   "id": "ce6434ff",
   "metadata": {},
   "outputs": [],
   "source": [
    "# Wilmington bounding box\n",
    "lat_min, lat_max = 34.0, 34.5\n",
    "lon_min, lon_max = -78.0, -77.5\n",
    "\n",
    "df_wilmington = atlantic_storm[\n",
    "    (atlantic_storm['Lat'] >= lat_min) & (atlantic_storm['Lat'] <= lat_max) &\n",
    "    (atlantic_storm['Lon'] >= lon_min) & (atlantic_storm['Lon'] <= lon_max)]\n",
    "\n",
    "df_wilmington = df_wilmington[cols]\n"
   ]
  },
  {
   "cell_type": "code",
   "execution_count": 74,
   "id": "8de77756",
   "metadata": {},
   "outputs": [],
   "source": [
    "from geopy.distance import geodesic\n",
    "\n",
    "# Example: Wilmington shelters\n",
    "shelters = pd.DataFrame({\n",
    "    'name': ['Shelter A', 'Shelter B'],\n",
    "    'Lat': [34.22, 34.28],\n",
    "    'Lon': [-77.94, -77.85]\n",
    "})\n",
    "\n",
    "# Compute distance (km) from each storm point to each shelter\n",
    "def min_distance_to_shelters(storm_point):\n",
    "    distances = [geodesic((storm_point['Lat'], storm_point['Lon']), (s['Lat'], s['Lon'])).km for _, s in shelters.iterrows()]\n",
    "    return min(distances)\n",
    "\n",
    "df_wilmington['min_distance_km'] = df_wilmington.apply(min_distance_to_shelters, axis=1)\n",
    "df_wilmington.to_csv(\"../data/processed/hurdat2_wilmington.csv\", index=False)\n"
   ]
  },
  {
   "cell_type": "code",
   "execution_count": 73,
   "id": "5f8c0beb",
   "metadata": {},
   "outputs": [
    {
     "data": {
      "image/png": "[encoded data removed]",
      "text/plain": [
       "<Figure size 640x480 with 1 Axes>"
      ]
     },
     "metadata": {},
     "output_type": "display_data"
    }
   ],
   "source": [
    "import matplotlib.pyplot as plt\n",
    "\n",
    "plt.scatter(df_wilmington['Lon'], df_wilmington['Lat'], c=df_wilmington['Wind_knots'], cmap='Reds', s=50)\n",
    "plt.scatter(shelters['Lon'], shelters['Lat'], marker='^', c='blue', label='Shelters')\n",
    "plt.xlabel('Longitude')\n",
    "plt.ylabel('Latitude')\n",
    "plt.title('Hurricane Points near Wilmington')\n",
    "plt.legend()\n",
    "plt.show()\n"
   ]
  },
  {
   "cell_type": "code",
   "execution_count": null,
   "id": "634fd71f",
   "metadata": {},
   "outputs": [],
   "source": []
  }
 ],
 "metadata": {
  "kernelspec": {
   "display_name": "ml-env",
   "language": "python",
   "name": "python3"
  },
  "language_info": {
   "codemirror_mode": {
    "name": "ipython",
    "version": 3
   },
   "file_extension": ".py",
   "mimetype": "text/x-python",
   "name": "python",
   "nbconvert_exporter": "python",
   "pygments_lexer": "ipython3",
   "version": "3.11.13"
  }
 },
 "nbformat": 4,
 "nbformat_minor": 5
}
