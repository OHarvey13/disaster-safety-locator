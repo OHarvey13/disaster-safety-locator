{
 "cells": [
  {
   "cell_type": "code",
   "execution_count": 76,
   "id": "37d8b38f",
   "metadata": {},
   "outputs": [
    {
     "name": "stdout",
     "output_type": "stream",
     "text": [
      "Help on function timeseries_dataset_from_array in module keras.src.utils.timeseries_dataset_utils:\n",
      "\n",
      "timeseries_dataset_from_array(data, targets, sequence_length, sequence_stride=1, sampling_rate=1, batch_size=128, shuffle=False, seed=None, start_index=None, end_index=None)\n",
      "    Creates a dataset of sliding windows over a timeseries provided as array.\n",
      "    \n",
      "    This function takes in a sequence of data-points gathered at\n",
      "    equal intervals, along with time series parameters such as\n",
      "    length of the sequences/windows, spacing between two sequence/windows, etc.,\n",
      "    to produce batches of timeseries inputs and targets.\n",
      "    \n",
      "    Args:\n",
      "        data: Numpy array or eager tensor\n",
      "            containing consecutive data points (timesteps).\n",
      "            Axis 0 is expected to be the time dimension.\n",
      "        targets: Targets corresponding to timesteps in `data`.\n",
      "            `targets[i]` should be the target\n",
      "            corresponding to the window that starts at index `i`\n",
      "            (see example 2 below).\n",
      "            Pass `None` if you don't have target data (in this case the dataset\n",
      "            will only yield the input data).\n",
      "        sequence_length: Length of the output sequences\n",
      "            (in number of timesteps).\n",
      "        sequence_stride: Period between successive output sequences.\n",
      "            For stride `s`, output samples would\n",
      "            start at index `data[i]`, `data[i + s]`, `data[i + 2 * s]`, etc.\n",
      "        sampling_rate: Period between successive individual timesteps\n",
      "            within sequences. For rate `r`, timesteps\n",
      "            `data[i], data[i + r], ... data[i + sequence_length]`\n",
      "            are used for creating a sample sequence.\n",
      "        batch_size: Number of timeseries samples in each batch\n",
      "            (except maybe the last one). If `None`, the data will not be batched\n",
      "            (the dataset will yield individual samples).\n",
      "        shuffle: Whether to shuffle output samples,\n",
      "            or instead draw them in chronological order.\n",
      "        seed: Optional int; random seed for shuffling.\n",
      "        start_index: Optional int; data points earlier (exclusive)\n",
      "            than `start_index` will not be used\n",
      "            in the output sequences. This is useful to reserve part of the\n",
      "            data for test or validation.\n",
      "        end_index: Optional int; data points later (exclusive) than `end_index`\n",
      "            will not be used in the output sequences.\n",
      "            This is useful to reserve part of the data for test or validation.\n",
      "    \n",
      "    Returns:\n",
      "    \n",
      "    A `tf.data.Dataset` instance. If `targets` was passed, the dataset yields\n",
      "    tuple `(batch_of_sequences, batch_of_targets)`. If not, the dataset yields\n",
      "    only `batch_of_sequences`.\n",
      "    \n",
      "    Example 1:\n",
      "    \n",
      "    Consider indices `[0, 1, ... 98]`.\n",
      "    With `sequence_length=10,  sampling_rate=2, sequence_stride=3`,\n",
      "    `shuffle=False`, the dataset will yield batches of sequences\n",
      "    composed of the following indices:\n",
      "    \n",
      "    ```\n",
      "    First sequence:  [0  2  4  6  8 10 12 14 16 18]\n",
      "    Second sequence: [3  5  7  9 11 13 15 17 19 21]\n",
      "    Third sequence:  [6  8 10 12 14 16 18 20 22 24]\n",
      "    ...\n",
      "    Last sequence:   [78 80 82 84 86 88 90 92 94 96]\n",
      "    ```\n",
      "    \n",
      "    In this case the last 2 data points are discarded since no full sequence\n",
      "    can be generated to include them (the next sequence would have started\n",
      "    at index 81, and thus its last step would have gone over 98).\n",
      "    \n",
      "    Example 2: Temporal regression.\n",
      "    \n",
      "    Consider an array `data` of scalar values, of shape `(steps,)`.\n",
      "    To generate a dataset that uses the past 10\n",
      "    timesteps to predict the next timestep, you would use:\n",
      "    \n",
      "    ```python\n",
      "    input_data = data[:-10]\n",
      "    targets = data[10:]\n",
      "    dataset = timeseries_dataset_from_array(\n",
      "        input_data, targets, sequence_length=10)\n",
      "    for batch in dataset:\n",
      "      inputs, targets = batch\n",
      "      assert np.array_equal(inputs[0], data[:10])  # First sequence: steps [0-9]\n",
      "      # Corresponding target: step 10\n",
      "      assert np.array_equal(targets[0], data[10])\n",
      "      break\n",
      "    ```\n",
      "    \n",
      "    Example 3: Temporal regression for many-to-many architectures.\n",
      "    \n",
      "    Consider two arrays of scalar values `X` and `Y`,\n",
      "    both of shape `(100,)`. The resulting dataset should consist samples with\n",
      "    20 timestamps each. The samples should not overlap.\n",
      "    To generate a dataset that uses the current timestamp\n",
      "    to predict the corresponding target timestep, you would use:\n",
      "    \n",
      "    ```python\n",
      "    X = np.arange(100)\n",
      "    Y = X*2\n",
      "    \n",
      "    sample_length = 20\n",
      "    input_dataset = timeseries_dataset_from_array(\n",
      "        X, None, sequence_length=sample_length, sequence_stride=sample_length)\n",
      "    target_dataset = timeseries_dataset_from_array(\n",
      "        Y, None, sequence_length=sample_length, sequence_stride=sample_length)\n",
      "    \n",
      "    for batch in zip(input_dataset, target_dataset):\n",
      "        inputs, targets = batch\n",
      "        assert np.array_equal(inputs[0], X[:sample_length])\n",
      "    \n",
      "        # second sample equals output timestamps 20-40\n",
      "        assert np.array_equal(targets[1], Y[sample_length:2*sample_length])\n",
      "        break\n",
      "    ```\n",
      "\n"
     ]
    }
   ],
   "source": [
    "from tensorflow import keras\n",
    "from keras.utils import timeseries_dataset_from_array\n",
    "help(timeseries_dataset_from_array)"
   ]
  },
  {
   "cell_type": "code",
   "execution_count": 77,
   "id": "4a1dab69",
   "metadata": {},
   "outputs": [
    {
     "data": {
      "application/vnd.microsoft.datawrangler.viewer.v0+json": {
       "columns": [
        {
         "name": "index",
         "rawType": "int64",
         "type": "integer"
        },
        {
         "name": "Storm_category",
         "rawType": "object",
         "type": "string"
        }
       ],
       "ref": "943533bb-3e47-4ee7-a429-0537774c067c",
       "rows": [
        [
         "0",
         "Category 1"
        ],
        [
         "1",
         "Category 1"
        ],
        [
         "2",
         "Category 1"
        ],
        [
         "3",
         "Category 1"
        ],
        [
         "4",
         "Category 1"
        ],
        [
         "5",
         "Category 1"
        ],
        [
         "6",
         "Tropical Storm"
        ],
        [
         "7",
         "Tropical Storm"
        ],
        [
         "8",
         "Tropical Storm"
        ],
        [
         "9",
         "Tropical Storm"
        ],
        [
         "10",
         "Tropical Storm"
        ],
        [
         "11",
         "Tropical Storm"
        ],
        [
         "12",
         "Tropical Storm"
        ],
        [
         "13",
         "Tropical Storm"
        ],
        [
         "14",
         "Category 1"
        ],
        [
         "15",
         "Tropical Storm"
        ],
        [
         "16",
         "Tropical Storm"
        ],
        [
         "17",
         "Tropical Storm"
        ],
        [
         "18",
         "Tropical Storm"
        ],
        [
         "19",
         "Tropical Storm"
        ],
        [
         "20",
         "Tropical Storm"
        ],
        [
         "21",
         "Tropical Storm"
        ],
        [
         "22",
         "Category 1"
        ],
        [
         "23",
         "Category 1"
        ],
        [
         "24",
         "Category 1"
        ],
        [
         "25",
         "Category 1"
        ],
        [
         "26",
         "Category 2"
        ],
        [
         "27",
         "Category 2"
        ],
        [
         "28",
         "Category 2"
        ],
        [
         "29",
         "Category 1"
        ],
        [
         "30",
         "Tropical Storm"
        ],
        [
         "31",
         "Tropical Storm"
        ],
        [
         "32",
         "Category 1"
        ],
        [
         "33",
         "Category 1"
        ],
        [
         "34",
         "Category 1"
        ],
        [
         "35",
         "Category 1"
        ],
        [
         "36",
         "Tropical Storm"
        ],
        [
         "37",
         "Tropical Storm"
        ],
        [
         "38",
         "Category 1"
        ],
        [
         "39",
         "Category 1"
        ],
        [
         "40",
         "Category 1"
        ],
        [
         "41",
         "Category 1"
        ],
        [
         "42",
         "Category 2"
        ],
        [
         "43",
         "Category 2"
        ],
        [
         "44",
         "Category 3"
        ],
        [
         "45",
         "Category 3"
        ],
        [
         "46",
         "Category 3"
        ],
        [
         "47",
         "Category 3"
        ],
        [
         "48",
         "Category 3"
        ],
        [
         "49",
         "Category 2"
        ]
       ],
       "shape": {
        "columns": 1,
        "rows": 55173
       }
      },
      "text/plain": [
       "0                 Category 1\n",
       "1                 Category 1\n",
       "2                 Category 1\n",
       "3                 Category 1\n",
       "4                 Category 1\n",
       "                ...         \n",
       "55225         Tropical Storm\n",
       "55226         Tropical Storm\n",
       "55227         Tropical Storm\n",
       "55228    Tropical Depression\n",
       "55229    Tropical Depression\n",
       "Name: Storm_category, Length: 55173, dtype: object"
      ]
     },
     "execution_count": 77,
     "metadata": {},
     "output_type": "execute_result"
    }
   ],
   "source": [
    "import pandas as pd\n",
    "import numpy as np\n",
    "\n",
    "hurricane_df = pd.read_csv(\"../data/processed/atlantic_storms_cleaned.csv\")\n",
    "hurricane_df.head(5)\n",
    "hurricane_df['Storm_category'].dropna()"
   ]
  },
  {
   "cell_type": "code",
   "execution_count": 78,
   "id": "d3201c5b",
   "metadata": {},
   "outputs": [
    {
     "data": {
      "application/vnd.microsoft.datawrangler.viewer.v0+json": {
       "columns": [
        {
         "name": "index",
         "rawType": "int64",
         "type": "integer"
        },
        {
         "name": "Storm_id",
         "rawType": "object",
         "type": "string"
        },
        {
         "name": "Storm_name",
         "rawType": "object",
         "type": "string"
        },
        {
         "name": "Timestamp(UTC)",
         "rawType": "object",
         "type": "string"
        },
        {
         "name": "Storm_duration_days",
         "rawType": "int64",
         "type": "integer"
        },
        {
         "name": "Storm_category",
         "rawType": "object",
         "type": "unknown"
        },
        {
         "name": "Type_of_storm",
         "rawType": "object",
         "type": "string"
        },
        {
         "name": "Month",
         "rawType": "int64",
         "type": "integer"
        },
        {
         "name": "Year",
         "rawType": "int64",
         "type": "integer"
        },
        {
         "name": "Wind_mph",
         "rawType": "float64",
         "type": "float"
        },
        {
         "name": "Wind_knots",
         "rawType": "int64",
         "type": "integer"
        },
        {
         "name": "Pressure_mb",
         "rawType": "int64",
         "type": "integer"
        },
        {
         "name": "Lat",
         "rawType": "float64",
         "type": "float"
        },
        {
         "name": "Lon",
         "rawType": "float64",
         "type": "float"
        }
       ],
       "ref": "0f611a6b-a625-4a27-bbb8-f05e8833f466",
       "rows": [
        [
         "0",
         "AL011851",
         "UNNAMED",
         "1851-06-25 00:00:00",
         "3",
         "Category 1",
         "HU",
         "6",
         "1851",
         "92.0624",
         "80",
         "-999",
         "28.0",
         "-94.8"
        ],
        [
         "1",
         "AL011851",
         "UNNAMED",
         "1851-06-25 06:00:00",
         "3",
         "Category 1",
         "HU",
         "6",
         "1851",
         "92.0624",
         "80",
         "-999",
         "28.0",
         "-95.4"
        ],
        [
         "2",
         "AL011851",
         "UNNAMED",
         "1851-06-25 12:00:00",
         "3",
         "Category 1",
         "HU",
         "6",
         "1851",
         "92.0624",
         "80",
         "-999",
         "28.0",
         "-96.0"
        ],
        [
         "3",
         "AL011851",
         "UNNAMED",
         "1851-06-25 18:00:00",
         "3",
         "Category 1",
         "HU",
         "6",
         "1851",
         "92.0624",
         "80",
         "-999",
         "28.1",
         "-96.5"
        ],
        [
         "4",
         "AL011851",
         "UNNAMED",
         "1851-06-25 21:00:00",
         "3",
         "Category 1",
         "HU",
         "6",
         "1851",
         "92.0624",
         "80",
         "-999",
         "28.2",
         "-96.8"
        ],
        [
         "5",
         "AL011851",
         "UNNAMED",
         "1851-06-26 00:00:00",
         "3",
         "Category 1",
         "HU",
         "6",
         "1851",
         "80.5546",
         "70",
         "-999",
         "28.2",
         "-97.0"
        ],
        [
         "6",
         "AL011851",
         "UNNAMED",
         "1851-06-26 06:00:00",
         "3",
         "Tropical Storm",
         "TS",
         "6",
         "1851",
         "69.04679999999999",
         "60",
         "-999",
         "28.3",
         "-97.6"
        ],
        [
         "7",
         "AL011851",
         "UNNAMED",
         "1851-06-26 12:00:00",
         "3",
         "Tropical Storm",
         "TS",
         "6",
         "1851",
         "69.04679999999999",
         "60",
         "-999",
         "28.4",
         "-98.3"
        ],
        [
         "8",
         "AL011851",
         "UNNAMED",
         "1851-06-26 18:00:00",
         "3",
         "Tropical Storm",
         "TS",
         "6",
         "1851",
         "57.538999999999994",
         "50",
         "-999",
         "28.6",
         "-98.9"
        ],
        [
         "9",
         "AL011851",
         "UNNAMED",
         "1851-06-27 00:00:00",
         "3",
         "Tropical Storm",
         "TS",
         "6",
         "1851",
         "57.538999999999994",
         "50",
         "-999",
         "29.0",
         "-99.4"
        ],
        [
         "10",
         "AL011851",
         "UNNAMED",
         "1851-06-27 06:00:00",
         "3",
         "Tropical Storm",
         "TS",
         "6",
         "1851",
         "46.0312",
         "40",
         "-999",
         "29.5",
         "-99.8"
        ],
        [
         "11",
         "AL011851",
         "UNNAMED",
         "1851-06-27 12:00:00",
         "3",
         "Tropical Storm",
         "TS",
         "6",
         "1851",
         "46.0312",
         "40",
         "-999",
         "30.0",
         "-100.0"
        ],
        [
         "12",
         "AL011851",
         "UNNAMED",
         "1851-06-27 18:00:00",
         "3",
         "Tropical Storm",
         "TS",
         "6",
         "1851",
         "46.0312",
         "40",
         "-999",
         "30.5",
         "-100.1"
        ],
        [
         "13",
         "AL011851",
         "UNNAMED",
         "1851-06-28 00:00:00",
         "3",
         "Tropical Storm",
         "TS",
         "6",
         "1851",
         "46.0312",
         "40",
         "-999",
         "31.0",
         "-100.2"
        ],
        [
         "14",
         "AL021851",
         "UNNAMED",
         "1851-07-05 12:00:00",
         "0",
         "Category 1",
         "HU",
         "7",
         "1851",
         "92.0624",
         "80",
         "-999",
         "22.2",
         "-97.6"
        ],
        [
         "15",
         "AL031851",
         "UNNAMED",
         "1851-07-10 12:00:00",
         "0",
         "Tropical Storm",
         "TS",
         "7",
         "1851",
         "57.538999999999994",
         "50",
         "-999",
         "12.0",
         "-60.0"
        ],
        [
         "16",
         "AL041851",
         "UNNAMED",
         "1851-08-16 00:00:00",
         "11",
         "Tropical Storm",
         "TS",
         "8",
         "1851",
         "46.0312",
         "40",
         "-999",
         "13.4",
         "-48.0"
        ],
        [
         "17",
         "AL041851",
         "UNNAMED",
         "1851-08-16 06:00:00",
         "11",
         "Tropical Storm",
         "TS",
         "8",
         "1851",
         "46.0312",
         "40",
         "-999",
         "13.7",
         "-49.5"
        ],
        [
         "18",
         "AL041851",
         "UNNAMED",
         "1851-08-16 12:00:00",
         "11",
         "Tropical Storm",
         "TS",
         "8",
         "1851",
         "57.538999999999994",
         "50",
         "-999",
         "14.0",
         "-51.0"
        ],
        [
         "19",
         "AL041851",
         "UNNAMED",
         "1851-08-16 18:00:00",
         "11",
         "Tropical Storm",
         "TS",
         "8",
         "1851",
         "57.538999999999994",
         "50",
         "-999",
         "14.4",
         "-52.8"
        ],
        [
         "20",
         "AL041851",
         "UNNAMED",
         "1851-08-17 00:00:00",
         "11",
         "Tropical Storm",
         "TS",
         "8",
         "1851",
         "69.04679999999999",
         "60",
         "-999",
         "14.9",
         "-54.6"
        ],
        [
         "21",
         "AL041851",
         "UNNAMED",
         "1851-08-17 06:00:00",
         "11",
         "Tropical Storm",
         "TS",
         "8",
         "1851",
         "69.04679999999999",
         "60",
         "-999",
         "15.4",
         "-56.5"
        ],
        [
         "22",
         "AL041851",
         "UNNAMED",
         "1851-08-17 12:00:00",
         "11",
         "Category 1",
         "HU",
         "8",
         "1851",
         "80.5546",
         "70",
         "-999",
         "15.9",
         "-58.5"
        ],
        [
         "23",
         "AL041851",
         "UNNAMED",
         "1851-08-17 18:00:00",
         "11",
         "Category 1",
         "HU",
         "8",
         "1851",
         "80.5546",
         "70",
         "-999",
         "16.1",
         "-60.4"
        ],
        [
         "24",
         "AL041851",
         "UNNAMED",
         "1851-08-18 00:00:00",
         "11",
         "Category 1",
         "HU",
         "8",
         "1851",
         "92.0624",
         "80",
         "-999",
         "16.6",
         "-62.5"
        ],
        [
         "25",
         "AL041851",
         "UNNAMED",
         "1851-08-18 06:00:00",
         "11",
         "Category 1",
         "HU",
         "8",
         "1851",
         "92.0624",
         "80",
         "-999",
         "16.9",
         "-64.1"
        ],
        [
         "26",
         "AL041851",
         "UNNAMED",
         "1851-08-18 12:00:00",
         "11",
         "Category 2",
         "HU",
         "8",
         "1851",
         "103.5702",
         "90",
         "-999",
         "17.2",
         "-66.0"
        ],
        [
         "27",
         "AL041851",
         "UNNAMED",
         "1851-08-18 18:00:00",
         "11",
         "Category 2",
         "HU",
         "8",
         "1851",
         "103.5702",
         "90",
         "-999",
         "17.6",
         "-67.6"
        ],
        [
         "28",
         "AL041851",
         "UNNAMED",
         "1851-08-19 00:00:00",
         "11",
         "Category 2",
         "HU",
         "8",
         "1851",
         "103.5702",
         "90",
         "-999",
         "18.0",
         "-69.3"
        ],
        [
         "29",
         "AL041851",
         "UNNAMED",
         "1851-08-19 06:00:00",
         "11",
         "Category 1",
         "HU",
         "8",
         "1851",
         "80.5546",
         "70",
         "-999",
         "18.4",
         "-71.1"
        ],
        [
         "30",
         "AL041851",
         "UNNAMED",
         "1851-08-19 12:00:00",
         "11",
         "Tropical Storm",
         "TS",
         "8",
         "1851",
         "69.04679999999999",
         "60",
         "-999",
         "18.9",
         "-72.6"
        ],
        [
         "31",
         "AL041851",
         "UNNAMED",
         "1851-08-19 18:00:00",
         "11",
         "Tropical Storm",
         "TS",
         "8",
         "1851",
         "69.04679999999999",
         "60",
         "-999",
         "19.4",
         "-74.3"
        ],
        [
         "32",
         "AL041851",
         "UNNAMED",
         "1851-08-20 00:00:00",
         "11",
         "Category 1",
         "HU",
         "8",
         "1851",
         "80.5546",
         "70",
         "-999",
         "19.9",
         "-75.9"
        ],
        [
         "33",
         "AL041851",
         "UNNAMED",
         "1851-08-20 06:00:00",
         "11",
         "Category 1",
         "HU",
         "8",
         "1851",
         "80.5546",
         "70",
         "-999",
         "20.5",
         "-77.6"
        ],
        [
         "34",
         "AL041851",
         "UNNAMED",
         "1851-08-20 12:00:00",
         "11",
         "Category 1",
         "HU",
         "8",
         "1851",
         "80.5546",
         "70",
         "-999",
         "21.2",
         "-79.0"
        ],
        [
         "35",
         "AL041851",
         "UNNAMED",
         "1851-08-20 18:00:00",
         "11",
         "Category 1",
         "HU",
         "8",
         "1851",
         "80.5546",
         "70",
         "-999",
         "21.9",
         "-80.4"
        ],
        [
         "36",
         "AL041851",
         "UNNAMED",
         "1851-08-21 00:00:00",
         "11",
         "Tropical Storm",
         "TS",
         "8",
         "1851",
         "69.04679999999999",
         "60",
         "-999",
         "22.6",
         "-81.4"
        ],
        [
         "37",
         "AL041851",
         "UNNAMED",
         "1851-08-21 06:00:00",
         "11",
         "Tropical Storm",
         "TS",
         "8",
         "1851",
         "69.04679999999999",
         "60",
         "-999",
         "23.2",
         "-82.5"
        ],
        [
         "38",
         "AL041851",
         "UNNAMED",
         "1851-08-21 12:00:00",
         "11",
         "Category 1",
         "HU",
         "8",
         "1851",
         "80.5546",
         "70",
         "-999",
         "23.9",
         "-83.6"
        ],
        [
         "39",
         "AL041851",
         "UNNAMED",
         "1851-08-21 18:00:00",
         "11",
         "Category 1",
         "HU",
         "8",
         "1851",
         "80.5546",
         "70",
         "-999",
         "24.4",
         "-84.3"
        ],
        [
         "40",
         "AL041851",
         "UNNAMED",
         "1851-08-22 00:00:00",
         "11",
         "Category 1",
         "HU",
         "8",
         "1851",
         "92.0624",
         "80",
         "-999",
         "25.0",
         "-84.9"
        ],
        [
         "41",
         "AL041851",
         "UNNAMED",
         "1851-08-22 06:00:00",
         "11",
         "Category 1",
         "HU",
         "8",
         "1851",
         "92.0624",
         "80",
         "-999",
         "25.6",
         "-85.5"
        ],
        [
         "42",
         "AL041851",
         "UNNAMED",
         "1851-08-22 12:00:00",
         "11",
         "Category 2",
         "HU",
         "8",
         "1851",
         "103.5702",
         "90",
         "-999",
         "26.2",
         "-86.0"
        ],
        [
         "43",
         "AL041851",
         "UNNAMED",
         "1851-08-22 18:00:00",
         "11",
         "Category 2",
         "HU",
         "8",
         "1851",
         "103.5702",
         "90",
         "-999",
         "26.8",
         "-86.3"
        ],
        [
         "44",
         "AL041851",
         "UNNAMED",
         "1851-08-23 00:00:00",
         "11",
         "Category 3",
         "HU",
         "8",
         "1851",
         "115.078",
         "100",
         "-999",
         "27.4",
         "-86.5"
        ],
        [
         "45",
         "AL041851",
         "UNNAMED",
         "1851-08-23 06:00:00",
         "11",
         "Category 3",
         "HU",
         "8",
         "1851",
         "115.078",
         "100",
         "-999",
         "28.0",
         "-86.6"
        ],
        [
         "46",
         "AL041851",
         "UNNAMED",
         "1851-08-23 12:00:00",
         "11",
         "Category 3",
         "HU",
         "8",
         "1851",
         "115.078",
         "100",
         "-999",
         "28.5",
         "-86.6"
        ],
        [
         "47",
         "AL041851",
         "UNNAMED",
         "1851-08-23 18:00:00",
         "11",
         "Category 3",
         "HU",
         "8",
         "1851",
         "115.078",
         "100",
         "-999",
         "29.6",
         "-86.1"
        ],
        [
         "48",
         "AL041851",
         "UNNAMED",
         "1851-08-23 21:00:00",
         "11",
         "Category 3",
         "HU",
         "8",
         "1851",
         "115.078",
         "100",
         "-999",
         "30.1",
         "-85.7"
        ],
        [
         "49",
         "AL041851",
         "UNNAMED",
         "1851-08-24 00:00:00",
         "11",
         "Category 2",
         "HU",
         "8",
         "1851",
         "103.5702",
         "90",
         "-999",
         "30.7",
         "-85.1"
        ]
       ],
       "shape": {
        "columns": 13,
        "rows": 55230
       }
      },
      "text/html": [
       "<div>\n",
       "<style scoped>\n",
       "    .dataframe tbody tr th:only-of-type {\n",
       "        vertical-align: middle;\n",
       "    }\n",
       "\n",
       "    .dataframe tbody tr th {\n",
       "        vertical-align: top;\n",
       "    }\n",
       "\n",
       "    .dataframe thead th {\n",
       "        text-align: right;\n",
       "    }\n",
       "</style>\n",
       "<table border=\"1\" class=\"dataframe\">\n",
       "  <thead>\n",
       "    <tr style=\"text-align: right;\">\n",
       "      <th></th>\n",
       "      <th>Storm_id</th>\n",
       "      <th>Storm_name</th>\n",
       "      <th>Timestamp(UTC)</th>\n",
       "      <th>Storm_duration_days</th>\n",
       "      <th>Storm_category</th>\n",
       "      <th>Type_of_storm</th>\n",
       "      <th>Month</th>\n",
       "      <th>Year</th>\n",
       "      <th>Wind_mph</th>\n",
       "      <th>Wind_knots</th>\n",
       "      <th>Pressure_mb</th>\n",
       "      <th>Lat</th>\n",
       "      <th>Lon</th>\n",
       "    </tr>\n",
       "  </thead>\n",
       "  <tbody>\n",
       "    <tr>\n",
       "      <th>0</th>\n",
       "      <td>AL011851</td>\n",
       "      <td>UNNAMED</td>\n",
       "      <td>1851-06-25 00:00:00</td>\n",
       "      <td>3</td>\n",
       "      <td>Category 1</td>\n",
       "      <td>HU</td>\n",
       "      <td>6</td>\n",
       "      <td>1851</td>\n",
       "      <td>92.0624</td>\n",
       "      <td>80</td>\n",
       "      <td>-999</td>\n",
       "      <td>28.0</td>\n",
       "      <td>-94.8</td>\n",
       "    </tr>\n",
       "    <tr>\n",
       "      <th>1</th>\n",
       "      <td>AL011851</td>\n",
       "      <td>UNNAMED</td>\n",
       "      <td>1851-06-25 06:00:00</td>\n",
       "      <td>3</td>\n",
       "      <td>Category 1</td>\n",
       "      <td>HU</td>\n",
       "      <td>6</td>\n",
       "      <td>1851</td>\n",
       "      <td>92.0624</td>\n",
       "      <td>80</td>\n",
       "      <td>-999</td>\n",
       "      <td>28.0</td>\n",
       "      <td>-95.4</td>\n",
       "    </tr>\n",
       "    <tr>\n",
       "      <th>2</th>\n",
       "      <td>AL011851</td>\n",
       "      <td>UNNAMED</td>\n",
       "      <td>1851-06-25 12:00:00</td>\n",
       "      <td>3</td>\n",
       "      <td>Category 1</td>\n",
       "      <td>HU</td>\n",
       "      <td>6</td>\n",
       "      <td>1851</td>\n",
       "      <td>92.0624</td>\n",
       "      <td>80</td>\n",
       "      <td>-999</td>\n",
       "      <td>28.0</td>\n",
       "      <td>-96.0</td>\n",
       "    </tr>\n",
       "    <tr>\n",
       "      <th>3</th>\n",
       "      <td>AL011851</td>\n",
       "      <td>UNNAMED</td>\n",
       "      <td>1851-06-25 18:00:00</td>\n",
       "      <td>3</td>\n",
       "      <td>Category 1</td>\n",
       "      <td>HU</td>\n",
       "      <td>6</td>\n",
       "      <td>1851</td>\n",
       "      <td>92.0624</td>\n",
       "      <td>80</td>\n",
       "      <td>-999</td>\n",
       "      <td>28.1</td>\n",
       "      <td>-96.5</td>\n",
       "    </tr>\n",
       "    <tr>\n",
       "      <th>4</th>\n",
       "      <td>AL011851</td>\n",
       "      <td>UNNAMED</td>\n",
       "      <td>1851-06-25 21:00:00</td>\n",
       "      <td>3</td>\n",
       "      <td>Category 1</td>\n",
       "      <td>HU</td>\n",
       "      <td>6</td>\n",
       "      <td>1851</td>\n",
       "      <td>92.0624</td>\n",
       "      <td>80</td>\n",
       "      <td>-999</td>\n",
       "      <td>28.2</td>\n",
       "      <td>-96.8</td>\n",
       "    </tr>\n",
       "    <tr>\n",
       "      <th>...</th>\n",
       "      <td>...</td>\n",
       "      <td>...</td>\n",
       "      <td>...</td>\n",
       "      <td>...</td>\n",
       "      <td>...</td>\n",
       "      <td>...</td>\n",
       "      <td>...</td>\n",
       "      <td>...</td>\n",
       "      <td>...</td>\n",
       "      <td>...</td>\n",
       "      <td>...</td>\n",
       "      <td>...</td>\n",
       "      <td>...</td>\n",
       "    </tr>\n",
       "    <tr>\n",
       "      <th>55225</th>\n",
       "      <td>AL192024</td>\n",
       "      <td>SARA</td>\n",
       "      <td>2024-11-17 06:00:00</td>\n",
       "      <td>4</td>\n",
       "      <td>Tropical Storm</td>\n",
       "      <td>TS</td>\n",
       "      <td>11</td>\n",
       "      <td>2024</td>\n",
       "      <td>40.2773</td>\n",
       "      <td>35</td>\n",
       "      <td>1001</td>\n",
       "      <td>16.5</td>\n",
       "      <td>-87.5</td>\n",
       "    </tr>\n",
       "    <tr>\n",
       "      <th>55226</th>\n",
       "      <td>AL192024</td>\n",
       "      <td>SARA</td>\n",
       "      <td>2024-11-17 12:00:00</td>\n",
       "      <td>4</td>\n",
       "      <td>Tropical Storm</td>\n",
       "      <td>TS</td>\n",
       "      <td>11</td>\n",
       "      <td>2024</td>\n",
       "      <td>40.2773</td>\n",
       "      <td>35</td>\n",
       "      <td>1001</td>\n",
       "      <td>16.8</td>\n",
       "      <td>-87.9</td>\n",
       "    </tr>\n",
       "    <tr>\n",
       "      <th>55227</th>\n",
       "      <td>AL192024</td>\n",
       "      <td>SARA</td>\n",
       "      <td>2024-11-17 14:00:00</td>\n",
       "      <td>4</td>\n",
       "      <td>Tropical Storm</td>\n",
       "      <td>TS</td>\n",
       "      <td>11</td>\n",
       "      <td>2024</td>\n",
       "      <td>40.2773</td>\n",
       "      <td>35</td>\n",
       "      <td>1001</td>\n",
       "      <td>17.0</td>\n",
       "      <td>-88.3</td>\n",
       "    </tr>\n",
       "    <tr>\n",
       "      <th>55228</th>\n",
       "      <td>AL192024</td>\n",
       "      <td>SARA</td>\n",
       "      <td>2024-11-17 18:00:00</td>\n",
       "      <td>4</td>\n",
       "      <td>Tropical Depression</td>\n",
       "      <td>TD</td>\n",
       "      <td>11</td>\n",
       "      <td>2024</td>\n",
       "      <td>34.5234</td>\n",
       "      <td>30</td>\n",
       "      <td>1003</td>\n",
       "      <td>17.4</td>\n",
       "      <td>-89.1</td>\n",
       "    </tr>\n",
       "    <tr>\n",
       "      <th>55229</th>\n",
       "      <td>AL192024</td>\n",
       "      <td>SARA</td>\n",
       "      <td>2024-11-18 00:00:00</td>\n",
       "      <td>4</td>\n",
       "      <td>Tropical Depression</td>\n",
       "      <td>TD</td>\n",
       "      <td>11</td>\n",
       "      <td>2024</td>\n",
       "      <td>28.7695</td>\n",
       "      <td>25</td>\n",
       "      <td>1004</td>\n",
       "      <td>17.9</td>\n",
       "      <td>-90.2</td>\n",
       "    </tr>\n",
       "  </tbody>\n",
       "</table>\n",
       "<p>55230 rows × 13 columns</p>\n",
       "</div>"
      ],
      "text/plain": [
       "       Storm_id Storm_name       Timestamp(UTC)  Storm_duration_days  \\\n",
       "0      AL011851    UNNAMED  1851-06-25 00:00:00                    3   \n",
       "1      AL011851    UNNAMED  1851-06-25 06:00:00                    3   \n",
       "2      AL011851    UNNAMED  1851-06-25 12:00:00                    3   \n",
       "3      AL011851    UNNAMED  1851-06-25 18:00:00                    3   \n",
       "4      AL011851    UNNAMED  1851-06-25 21:00:00                    3   \n",
       "...         ...        ...                  ...                  ...   \n",
       "55225  AL192024       SARA  2024-11-17 06:00:00                    4   \n",
       "55226  AL192024       SARA  2024-11-17 12:00:00                    4   \n",
       "55227  AL192024       SARA  2024-11-17 14:00:00                    4   \n",
       "55228  AL192024       SARA  2024-11-17 18:00:00                    4   \n",
       "55229  AL192024       SARA  2024-11-18 00:00:00                    4   \n",
       "\n",
       "            Storm_category Type_of_storm  Month  Year  Wind_mph  Wind_knots  \\\n",
       "0               Category 1            HU      6  1851   92.0624          80   \n",
       "1               Category 1            HU      6  1851   92.0624          80   \n",
       "2               Category 1            HU      6  1851   92.0624          80   \n",
       "3               Category 1            HU      6  1851   92.0624          80   \n",
       "4               Category 1            HU      6  1851   92.0624          80   \n",
       "...                    ...           ...    ...   ...       ...         ...   \n",
       "55225       Tropical Storm            TS     11  2024   40.2773          35   \n",
       "55226       Tropical Storm            TS     11  2024   40.2773          35   \n",
       "55227       Tropical Storm            TS     11  2024   40.2773          35   \n",
       "55228  Tropical Depression            TD     11  2024   34.5234          30   \n",
       "55229  Tropical Depression            TD     11  2024   28.7695          25   \n",
       "\n",
       "       Pressure_mb   Lat   Lon  \n",
       "0             -999  28.0 -94.8  \n",
       "1             -999  28.0 -95.4  \n",
       "2             -999  28.0 -96.0  \n",
       "3             -999  28.1 -96.5  \n",
       "4             -999  28.2 -96.8  \n",
       "...            ...   ...   ...  \n",
       "55225         1001  16.5 -87.5  \n",
       "55226         1001  16.8 -87.9  \n",
       "55227         1001  17.0 -88.3  \n",
       "55228         1003  17.4 -89.1  \n",
       "55229         1004  17.9 -90.2  \n",
       "\n",
       "[55230 rows x 13 columns]"
      ]
     },
     "execution_count": 78,
     "metadata": {},
     "output_type": "execute_result"
    }
   ],
   "source": [
    "hurricane_df"
   ]
  },
  {
   "cell_type": "code",
   "execution_count": 79,
   "id": "71c326e7",
   "metadata": {},
   "outputs": [],
   "source": [
    "from sklearn.model_selection import train_test_split\n",
    "from sklearn.preprocessing import StandardScaler\n",
    "\n",
    "hurricane_df_train = hurricane_df.drop(['Storm_id','Storm_name' ,'Timestamp(UTC)'], axis=1)\n",
    "\n",
    "hurricane_df_train = pd.get_dummies(hurricane_df_train, columns= ['Storm_category', 'Type_of_storm'])\n",
    "\n",
    "storm_cat = hurricane_df_train.columns[hurricane_df_train.columns.str.startswith('Storm_category')].tolist()\n",
    "storm_type = hurricane_df_train.columns[hurricane_df_train.columns.str.startswith('Type_of_storm')].tolist()\n",
    "\n",
    "feature_cols = ['Month', 'Year', 'Lat', 'Lon']\n",
    "target_cols = ['Wind_mph', 'Pressure_mb']\n",
    "\n",
    "X = hurricane_df_train[feature_cols + storm_type]\n",
    "y = hurricane_df_train[target_cols]\n",
    "\n",
    "X_train, X_test, y_train, y_test = train_test_split(X, y, train_size=0.8, random_state=42)\n",
    "\n",
    "scaler = StandardScaler()\n",
    "X_train[feature_cols] = scaler.fit_transform(X_train[feature_cols])\n",
    "X_test[feature_cols] = scaler.transform(X_test[feature_cols])\n",
    "\n",
    "scaler_y = StandardScaler()\n",
    "y_train_scaled = scaler_y.fit_transform(y_train)\n",
    "y_test_scaled = scaler_y.transform(y_test)\n"
   ]
  },
  {
   "cell_type": "code",
   "execution_count": 89,
   "id": "e01d8a27",
   "metadata": {},
   "outputs": [
    {
     "name": "stderr",
     "output_type": "stream",
     "text": [
      "/opt/anaconda3/envs/ml-env/lib/python3.11/site-packages/keras/src/layers/core/dense.py:92: UserWarning: Do not pass an `input_shape`/`input_dim` argument to a layer. When using Sequential models, prefer using an `Input(shape)` object as the first layer in the model instead.\n",
      "  super().__init__(activity_regularizer=activity_regularizer, **kwargs)\n"
     ]
    }
   ],
   "source": [
    "from keras.models import Sequential\n",
    "from keras.layers import Dense\n",
    "from keras.optimizers import Adam\n",
    "\n",
    "model = Sequential()\n",
    "model.add(Dense(64, activation='relu', input_shape=(X_train.shape[1],)))\n",
    "model.add(Dense(32, activation='relu'))\n",
    "model.add(Dense(16, activation='relu'))\n",
    "model.add(Dense(y_train.shape[1], activation='linear'))\n",
    "optimizer = Adam(learning_rate=1e-4)\n",
    "model.compile(optimizer=optimizer, loss='mse', metrics=['mse'])"
   ]
  },
  {
   "cell_type": "code",
   "execution_count": null,
   "id": "2bb81dfb",
   "metadata": {},
   "outputs": [
    {
     "name": "stdout",
     "output_type": "stream",
     "text": [
      "Epoch 1/20\n",
      "\u001b[1m1105/1105\u001b[0m \u001b[32m━━━━━━━━━━━━━━━━━━━━\u001b[0m\u001b[37m\u001b[0m \u001b[1m16s\u001b[0m 14ms/step - loss: 0.3137 - mse: 0.3137 - val_loss: 0.3148 - val_mse: 0.3148\n",
      "Epoch 2/20\n",
      "\u001b[1m1105/1105\u001b[0m \u001b[32m━━━━━━━━━━━━━━━━━━━━\u001b[0m\u001b[37m\u001b[0m \u001b[1m15s\u001b[0m 14ms/step - loss: 0.3138 - mse: 0.3138 - val_loss: 0.3150 - val_mse: 0.3150\n",
      "Epoch 3/20\n",
      "\u001b[1m1105/1105\u001b[0m \u001b[32m━━━━━━━━━━━━━━━━━━━━\u001b[0m\u001b[37m\u001b[0m \u001b[1m15s\u001b[0m 14ms/step - loss: 0.3140 - mse: 0.3140 - val_loss: 0.3148 - val_mse: 0.3148\n",
      "Epoch 4/20\n",
      "\u001b[1m1105/1105\u001b[0m \u001b[32m━━━━━━━━━━━━━━━━━━━━\u001b[0m\u001b[37m\u001b[0m \u001b[1m16s\u001b[0m 14ms/step - loss: 0.3143 - mse: 0.3143 - val_loss: 0.3159 - val_mse: 0.3159\n",
      "Epoch 5/20\n",
      "\u001b[1m1105/1105\u001b[0m \u001b[32m━━━━━━━━━━━━━━━━━━━━\u001b[0m\u001b[37m\u001b[0m \u001b[1m16s\u001b[0m 14ms/step - loss: 0.3149 - mse: 0.3149 - val_loss: 0.3177 - val_mse: 0.3177\n",
      "Epoch 6/20\n",
      "\u001b[1m1105/1105\u001b[0m \u001b[32m━━━━━━━━━━━━━━━━━━━━\u001b[0m\u001b[37m\u001b[0m \u001b[1m16s\u001b[0m 14ms/step - loss: 0.3160 - mse: 0.3160 - val_loss: 0.3177 - val_mse: 0.3177\n",
      "Epoch 7/20\n",
      "\u001b[1m1105/1105\u001b[0m \u001b[32m━━━━━━━━━━━━━━━━━━━━\u001b[0m\u001b[37m\u001b[0m \u001b[1m16s\u001b[0m 14ms/step - loss: 0.3177 - mse: 0.3177 - val_loss: 0.3236 - val_mse: 0.3236\n",
      "Epoch 8/20\n",
      "\u001b[1m1105/1105\u001b[0m \u001b[32m━━━━━━━━━━━━━━━━━━━━\u001b[0m\u001b[37m\u001b[0m \u001b[1m16s\u001b[0m 14ms/step - loss: 0.3220 - mse: 0.3220 - val_loss: 0.3230 - val_mse: 0.3230\n",
      "Epoch 9/20\n",
      "\u001b[1m1105/1105\u001b[0m \u001b[32m━━━━━━━━━━━━━━━━━━━━\u001b[0m\u001b[37m\u001b[0m \u001b[1m16s\u001b[0m 14ms/step - loss: 0.3260 - mse: 0.3260 - val_loss: 0.3211 - val_mse: 0.3211\n",
      "Epoch 10/20\n",
      "\u001b[1m1105/1105\u001b[0m \u001b[32m━━━━━━━━━━━━━━━━━━━━\u001b[0m\u001b[37m\u001b[0m \u001b[1m16s\u001b[0m 14ms/step - loss: 0.3308 - mse: 0.3308 - val_loss: 0.3298 - val_mse: 0.3298\n",
      "Epoch 11/20\n",
      "\u001b[1m1105/1105\u001b[0m \u001b[32m━━━━━━━━━━━━━━━━━━━━\u001b[0m\u001b[37m\u001b[0m \u001b[1m140s\u001b[0m 127ms/step - loss: 0.3353 - mse: 0.3353 - val_loss: 0.3677 - val_mse: 0.3677\n",
      "Epoch 12/20\n",
      "\u001b[1m1105/1105\u001b[0m \u001b[32m━━━━━━━━━━━━━━━━━━━━\u001b[0m\u001b[37m\u001b[0m \u001b[1m115s\u001b[0m 104ms/step - loss: 0.3381 - mse: 0.3381 - val_loss: 0.3373 - val_mse: 0.3373\n",
      "Epoch 13/20\n",
      "\u001b[1m1105/1105\u001b[0m \u001b[32m━━━━━━━━━━━━━━━━━━━━\u001b[0m\u001b[37m\u001b[0m \u001b[1m25s\u001b[0m 23ms/step - loss: 0.3431 - mse: 0.3431 - val_loss: 0.3536 - val_mse: 0.3536\n",
      "Epoch 14/20\n",
      "\u001b[1m1105/1105\u001b[0m \u001b[32m━━━━━━━━━━━━━━━━━━━━\u001b[0m\u001b[37m\u001b[0m \u001b[1m230s\u001b[0m 208ms/step - loss: 0.3456 - mse: 0.3456 - val_loss: 0.3563 - val_mse: 0.3563\n",
      "Epoch 15/20\n",
      "\u001b[1m1105/1105\u001b[0m \u001b[32m━━━━━━━━━━━━━━━━━━━━\u001b[0m\u001b[37m\u001b[0m \u001b[1m14s\u001b[0m 13ms/step - loss: 0.3502 - mse: 0.3502 - val_loss: 0.3329 - val_mse: 0.3329\n",
      "Epoch 16/20\n",
      "\u001b[1m1105/1105\u001b[0m \u001b[32m━━━━━━━━━━━━━━━━━━━━\u001b[0m\u001b[37m\u001b[0m \u001b[1m19s\u001b[0m 17ms/step - loss: 0.3585 - mse: 0.3585 - val_loss: 0.3414 - val_mse: 0.3414\n",
      "Epoch 17/20\n",
      "\u001b[1m1103/1105\u001b[0m \u001b[32m━━━━━━━━━━━━━━━━━━━\u001b[0m\u001b[37m━\u001b[0m \u001b[1m0s\u001b[0m 73ms/step - loss: 0.3664 - mse: 0.3664"
     ]
    }
   ],
   "source": [
    "from keras.callbacks import EarlyStopping\n",
    "early_stop = EarlyStopping(\n",
    "    monitor='val_loss',\n",
    "    patience=10,               # stop if no improvement for 10 epochs\n",
    "    restore_best_weights=True  # revert to best model\n",
    ")\n",
    "\n",
    "history = model.fit(X_train, y_train_scaled, \n",
    "                    validation_split=0.2,  # optional, hold out 20% of train for val\n",
    "                    epochs=20,            # adjust depending on convergence\n",
    "                    batch_size=32,\n",
    "                    verbose=1)\n"
   ]
  },
  {
   "cell_type": "code",
   "execution_count": 85,
   "id": "74f1fbaa",
   "metadata": {},
   "outputs": [
    {
     "data": {
      "text/html": [
       "<pre style=\"white-space:pre;overflow-x:auto;line-height:normal;font-family:Menlo,'DejaVu Sans Mono',consolas,'Courier New',monospace\"><span style=\"font-weight: bold\">Model: \"sequential_3\"</span>\n",
       "</pre>\n"
      ],
      "text/plain": [
       "\u001b[1mModel: \"sequential_3\"\u001b[0m\n"
      ]
     },
     "metadata": {},
     "output_type": "display_data"
    },
    {
     "data": {
      "text/html": [
       "<pre style=\"white-space:pre;overflow-x:auto;line-height:normal;font-family:Menlo,'DejaVu Sans Mono',consolas,'Courier New',monospace\">┏━━━━━━━━━━━━━━━━━━━━━━━━━━━━━━━━━┳━━━━━━━━━━━━━━━━━━━━━━━━┳━━━━━━━━━━━━━━━┓\n",
       "┃<span style=\"font-weight: bold\"> Layer (type)                    </span>┃<span style=\"font-weight: bold\"> Output Shape           </span>┃<span style=\"font-weight: bold\">       Param # </span>┃\n",
       "┡━━━━━━━━━━━━━━━━━━━━━━━━━━━━━━━━━╇━━━━━━━━━━━━━━━━━━━━━━━━╇━━━━━━━━━━━━━━━┩\n",
       "│ dense_15 (<span style=\"color: #0087ff; text-decoration-color: #0087ff\">Dense</span>)                │ (<span style=\"color: #00d7ff; text-decoration-color: #00d7ff\">None</span>, <span style=\"color: #00af00; text-decoration-color: #00af00\">64</span>)             │           <span style=\"color: #00af00; text-decoration-color: #00af00\">896</span> │\n",
       "├─────────────────────────────────┼────────────────────────┼───────────────┤\n",
       "│ dense_16 (<span style=\"color: #0087ff; text-decoration-color: #0087ff\">Dense</span>)                │ (<span style=\"color: #00d7ff; text-decoration-color: #00d7ff\">None</span>, <span style=\"color: #00af00; text-decoration-color: #00af00\">32</span>)             │         <span style=\"color: #00af00; text-decoration-color: #00af00\">2,080</span> │\n",
       "├─────────────────────────────────┼────────────────────────┼───────────────┤\n",
       "│ dense_17 (<span style=\"color: #0087ff; text-decoration-color: #0087ff\">Dense</span>)                │ (<span style=\"color: #00d7ff; text-decoration-color: #00d7ff\">None</span>, <span style=\"color: #00af00; text-decoration-color: #00af00\">16</span>)             │           <span style=\"color: #00af00; text-decoration-color: #00af00\">528</span> │\n",
       "├─────────────────────────────────┼────────────────────────┼───────────────┤\n",
       "│ dense_18 (<span style=\"color: #0087ff; text-decoration-color: #0087ff\">Dense</span>)                │ (<span style=\"color: #00d7ff; text-decoration-color: #00d7ff\">None</span>, <span style=\"color: #00af00; text-decoration-color: #00af00\">2</span>)              │            <span style=\"color: #00af00; text-decoration-color: #00af00\">34</span> │\n",
       "└─────────────────────────────────┴────────────────────────┴───────────────┘\n",
       "</pre>\n"
      ],
      "text/plain": [
       "┏━━━━━━━━━━━━━━━━━━━━━━━━━━━━━━━━━┳━━━━━━━━━━━━━━━━━━━━━━━━┳━━━━━━━━━━━━━━━┓\n",
       "┃\u001b[1m \u001b[0m\u001b[1mLayer (type)                   \u001b[0m\u001b[1m \u001b[0m┃\u001b[1m \u001b[0m\u001b[1mOutput Shape          \u001b[0m\u001b[1m \u001b[0m┃\u001b[1m \u001b[0m\u001b[1m      Param #\u001b[0m\u001b[1m \u001b[0m┃\n",
       "┡━━━━━━━━━━━━━━━━━━━━━━━━━━━━━━━━━╇━━━━━━━━━━━━━━━━━━━━━━━━╇━━━━━━━━━━━━━━━┩\n",
       "│ dense_15 (\u001b[38;5;33mDense\u001b[0m)                │ (\u001b[38;5;45mNone\u001b[0m, \u001b[38;5;34m64\u001b[0m)             │           \u001b[38;5;34m896\u001b[0m │\n",
       "├─────────────────────────────────┼────────────────────────┼───────────────┤\n",
       "│ dense_16 (\u001b[38;5;33mDense\u001b[0m)                │ (\u001b[38;5;45mNone\u001b[0m, \u001b[38;5;34m32\u001b[0m)             │         \u001b[38;5;34m2,080\u001b[0m │\n",
       "├─────────────────────────────────┼────────────────────────┼───────────────┤\n",
       "│ dense_17 (\u001b[38;5;33mDense\u001b[0m)                │ (\u001b[38;5;45mNone\u001b[0m, \u001b[38;5;34m16\u001b[0m)             │           \u001b[38;5;34m528\u001b[0m │\n",
       "├─────────────────────────────────┼────────────────────────┼───────────────┤\n",
       "│ dense_18 (\u001b[38;5;33mDense\u001b[0m)                │ (\u001b[38;5;45mNone\u001b[0m, \u001b[38;5;34m2\u001b[0m)              │            \u001b[38;5;34m34\u001b[0m │\n",
       "└─────────────────────────────────┴────────────────────────┴───────────────┘\n"
      ]
     },
     "metadata": {},
     "output_type": "display_data"
    },
    {
     "data": {
      "text/html": [
       "<pre style=\"white-space:pre;overflow-x:auto;line-height:normal;font-family:Menlo,'DejaVu Sans Mono',consolas,'Courier New',monospace\"><span style=\"font-weight: bold\"> Total params: </span><span style=\"color: #00af00; text-decoration-color: #00af00\">10,616</span> (41.47 KB)\n",
       "</pre>\n"
      ],
      "text/plain": [
       "\u001b[1m Total params: \u001b[0m\u001b[38;5;34m10,616\u001b[0m (41.47 KB)\n"
      ]
     },
     "metadata": {},
     "output_type": "display_data"
    },
    {
     "data": {
      "text/html": [
       "<pre style=\"white-space:pre;overflow-x:auto;line-height:normal;font-family:Menlo,'DejaVu Sans Mono',consolas,'Courier New',monospace\"><span style=\"font-weight: bold\"> Trainable params: </span><span style=\"color: #00af00; text-decoration-color: #00af00\">3,538</span> (13.82 KB)\n",
       "</pre>\n"
      ],
      "text/plain": [
       "\u001b[1m Trainable params: \u001b[0m\u001b[38;5;34m3,538\u001b[0m (13.82 KB)\n"
      ]
     },
     "metadata": {},
     "output_type": "display_data"
    },
    {
     "data": {
      "text/html": [
       "<pre style=\"white-space:pre;overflow-x:auto;line-height:normal;font-family:Menlo,'DejaVu Sans Mono',consolas,'Courier New',monospace\"><span style=\"font-weight: bold\"> Non-trainable params: </span><span style=\"color: #00af00; text-decoration-color: #00af00\">0</span> (0.00 B)\n",
       "</pre>\n"
      ],
      "text/plain": [
       "\u001b[1m Non-trainable params: \u001b[0m\u001b[38;5;34m0\u001b[0m (0.00 B)\n"
      ]
     },
     "metadata": {},
     "output_type": "display_data"
    },
    {
     "data": {
      "text/html": [
       "<pre style=\"white-space:pre;overflow-x:auto;line-height:normal;font-family:Menlo,'DejaVu Sans Mono',consolas,'Courier New',monospace\"><span style=\"font-weight: bold\"> Optimizer params: </span><span style=\"color: #00af00; text-decoration-color: #00af00\">7,078</span> (27.65 KB)\n",
       "</pre>\n"
      ],
      "text/plain": [
       "\u001b[1m Optimizer params: \u001b[0m\u001b[38;5;34m7,078\u001b[0m (27.65 KB)\n"
      ]
     },
     "metadata": {},
     "output_type": "display_data"
    }
   ],
   "source": [
    "model.summary()"
   ]
  },
  {
   "cell_type": "code",
   "execution_count": 86,
   "id": "262be111",
   "metadata": {},
   "outputs": [
    {
     "name": "stdout",
     "output_type": "stream",
     "text": [
      "\u001b[1m346/346\u001b[0m \u001b[32m━━━━━━━━━━━━━━━━━━━━\u001b[0m\u001b[37m\u001b[0m \u001b[1m2s\u001b[0m 5ms/step - loss: 0.3286 - mse: 0.3286\n",
      "Test Loss: 0.32857346534729004\n",
      "Test MAE: 0.32857346534729004\n"
     ]
    }
   ],
   "source": [
    "loss, mae = model.evaluate(X_test, y_test_scaled)\n",
    "print(f\"Test Loss: {loss}\")\n",
    "print(f\"Test MAE: {mae}\")"
   ]
  },
  {
   "cell_type": "code",
   "execution_count": 84,
   "id": "d3cc58cd",
   "metadata": {},
   "outputs": [
    {
     "data": {
      "text/plain": [
       "<matplotlib.legend.Legend at 0x34d0caa90>"
      ]
     },
     "execution_count": 84,
     "metadata": {},
     "output_type": "execute_result"
    },
    {
     "data": {
      "image/png": "[encoded data removed]",
      "text/plain": [
       "<Figure size 640x480 with 1 Axes>"
      ]
     },
     "metadata": {},
     "output_type": "display_data"
    }
   ],
   "source": [
    "import matplotlib.pyplot as plt\n",
    "\n",
    "plt.plot(history.history['mse'], label='Train MSE')\n",
    "plt.plot(history.history['val_mse'], label='Validation MSE')\n",
    "plt.legend()"
   ]
  },
  {
   "cell_type": "code",
   "execution_count": null,
   "id": "a70ebe89",
   "metadata": {},
   "outputs": [],
   "source": []
  }
 ],
 "metadata": {
  "kernelspec": {
   "display_name": "ml-env",
   "language": "python",
   "name": "python3"
  },
  "language_info": {
   "codemirror_mode": {
    "name": "ipython",
    "version": 3
   },
   "file_extension": ".py",
   "mimetype": "text/x-python",
   "name": "python",
   "nbconvert_exporter": "python",
   "pygments_lexer": "ipython3",
   "version": "3.11.13"
  }
 },
 "nbformat": 4,
 "nbformat_minor": 5
}
